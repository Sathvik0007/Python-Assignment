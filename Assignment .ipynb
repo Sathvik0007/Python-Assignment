{
 "cells": [
  {
   "cell_type": "code",
   "execution_count": 7,
   "id": "7d54b7bb-be27-4272-bb51-10445f20dc0d",
   "metadata": {},
   "outputs": [
    {
     "name": "stdin",
     "output_type": "stream",
     "text": [
      "Enter the first number :  10\n",
      "Enter the second number :  3\n"
     ]
    },
    {
     "name": "stdout",
     "output_type": "stream",
     "text": [
      "Addition :   13\n",
      "Subtraction :  7\n",
      "Multiplication :  30\n",
      "Division :  3.3333333333333335\n",
      "Modulus :  1\n",
      "Exponentiation :  1000\n",
      "Floor Division :  3\n"
     ]
    }
   ],
   "source": [
    "#Exercise 1: Arithmetic Operators\n",
    "x=int(input(\"Enter the first number : \"))\n",
    "y=int(input(\"Enter the second number : \"))\n",
    "print(\"Addition :  \",x+y)\n",
    "print(\"Subtraction : \",x-y)\n",
    "print(\"Multiplication : \",x*y)\n",
    "print(\"Division : \",x/y)\n",
    "print(\"Modulus : \",x%y)fgfgfg gf\n",
    "print(\"Exponentiation : \",x**y)\n",
    "print(\"Floor Division : \",x//y)\n"
   ]
  },
  {
   "cell_type": "code",
   "execution_count": 1,
   "id": "b898e88d-3956-4bd2-b5ee-e69e442f774f",
   "metadata": {},
   "outputs": [
    {
     "name": "stdin",
     "output_type": "stream",
     "text": [
      "Enter the first number:  1\n",
      "Enter the second number:  2\n"
     ]
    },
    {
     "name": "stdout",
     "output_type": "stream",
     "text": [
      "X is less than Y\n"
     ]
    }
   ],
   "source": [
    "#Exercise 2: Comparison Operators\n",
    "x = int(input(\"Enter the first number: \"))\n",
    "y = int(input(\"Enter the second number: \"))\n",
    "\n",
    "if x > y:\n",
    "    print(\"X is greater than Y\")\n",
    "elif x == y:\n",
    "    print(\"X is equal to Y\")\n",
    "else:\n",
    "    print(\"X is less than Y\")\n"
   ]
  },
  {
   "cell_type": "code",
   "execution_count": 3,
   "id": "d65a9f72-8e50-4ca0-b5ab-d592f02b417f",
   "metadata": {},
   "outputs": [
    {
     "name": "stdin",
     "output_type": "stream",
     "text": [
      "Enter first boolean value :  1\n",
      "Enter second boolean value :  2\n",
      "Enter third boolean value :  3\n"
     ]
    },
    {
     "name": "stdout",
     "output_type": "stream",
     "text": [
      "True\n"
     ]
    }
   ],
   "source": [
    "#Exercise 3: Logical Operators\n",
    "a = eval(input(\"Enter first boolean value : \"))\n",
    "b = eval(input(\"Enter second boolean value : \"))\n",
    "c = eval(input(\"Enter third boolean value : \"))\n",
    "\n",
    "if a and b:\n",
    "    print(\"True\")\n",
    "elif not c:\n",
    "    print(\"True\")\n",
    "else:\n",
    "    print(\"False\")\n"
   ]
  },
  {
   "cell_type": "code",
   "execution_count": 7,
   "id": "5786218d-5ae2-4258-8c31-261a26bb0d99",
   "metadata": {},
   "outputs": [
    {
     "name": "stdin",
     "output_type": "stream",
     "text": [
      "Enter a string:  Sathvik\n"
     ]
    },
    {
     "name": "stdout",
     "output_type": "stream",
     "text": [
      "Length: 7\n",
      "First character and last character: S k\n",
      "Reversed: kivhtaS\n",
      "Uppercase: SATHVIK\n",
      "Lowercase: sathvik\n"
     ]
    }
   ],
   "source": [
    "#Exercise 4: String Manipulation\n",
    "X=input(\"Enter a string: \")\n",
    "print(\"Length:\", len(X))\n",
    "print(\"First character and last character:\", X[0]+\" \"+X[-1])\n",
    "print(\"Reversed:\", X[::-1])\n",
    "print(\"Uppercase:\", X.upper())\n",
    "print(\"Lowercase:\", X.lower())"
   ]
  },
  {
   "cell_type": "code",
   "execution_count": 9,
   "id": "30fbf86c-1704-444f-8778-826ab1e4b91e",
   "metadata": {},
   "outputs": [
    {
     "name": "stdin",
     "output_type": "stream",
     "text": [
      "Enter your name:  Sathvik\n",
      "Enter your age:  18\n"
     ]
    },
    {
     "name": "stdout",
     "output_type": "stream",
     "text": [
      "Hello Sathvik, you are 18 years old.\n"
     ]
    }
   ],
   "source": [
    "#Exercise 5: String Formatting\n",
    "Name = input(\"Enter your name: \")\n",
    "Age = input(\"Enter your age: \")\n",
    "print(\"Hello \" + Name + \", you are \" + Age + \" years old.\")\n"
   ]
  },
  {
   "cell_type": "code",
   "execution_count": 11,
   "id": "4bb120a1-391e-45a0-81fb-69a54cddadb4",
   "metadata": {},
   "outputs": [
    {
     "name": "stdin",
     "output_type": "stream",
     "text": [
      "Enter a sentence:  Submit your work by the deadline\n",
      "Enter a word to search:  work\n"
     ]
    },
    {
     "name": "stdout",
     "output_type": "stream",
     "text": [
      "The word 'work' exists in the sentence.\n"
     ]
    }
   ],
   "source": [
    "#Exercise 6: Substring Search\n",
    "sentence = input(\"Enter a sentence: \")\n",
    "word = input(\"Enter a word to search: \")\n",
    "if word in sentence:\n",
    "    print(f\"The word '{word}' exists in the sentence.\")\n",
    "else:\n",
    "    print(f\"The word '{word}' does not exist in the sentence.\")\n"
   ]
  },
  {
   "cell_type": "code",
   "execution_count": 7,
   "id": "9a881515-574a-4d1f-bd13-8458e8170c52",
   "metadata": {},
   "outputs": [
    {
     "name": "stdin",
     "output_type": "stream",
     "text": [
      "Enter the number 1: 1\n",
      "Enter the number 2: 2\n",
      "Enter the number 3: 3\n",
      "Enter the number 4: 4\n",
      "Enter the number 5: 5\n"
     ]
    },
    {
     "name": "stdout",
     "output_type": "stream",
     "text": [
      "[(1, 2, 3, 4, 5)]\n",
      "Sum of all the Number in the list :  15\n",
      "Largest of all the number in the List :  5\n",
      "Smallest of all the number in the list :  1\n"
     ]
    }
   ],
   "source": [
    "#Exercise 7: List Operations\n",
    "a=int(input(\"Enter the number 1:\"))\n",
    "b=int(input(\"Enter the number 2:\"))\n",
    "c=int(input(\"Enter the number 3:\"))\n",
    "d=int(input(\"Enter the number 4:\"))\n",
    "e=int(input(\"Enter the number 5:\"))\n",
    "f=(a,b,c,d,e)\n",
    "print([f])\n",
    "print(\"Sum of all the Number in the list : \",sum(f))\n",
    "print(\"Largest of all the number in the List : \",max(f))\n",
    "print(\"Smallest of all the number in the list : \",min(f))"
   ]
  },
  {
   "cell_type": "code",
   "execution_count": 18,
   "id": "f15003d4-e867-4463-b8b1-26eb8bb34125",
   "metadata": {},
   "outputs": [
    {
     "name": "stdout",
     "output_type": "stream",
     "text": [
      "['Apple', 'Grapes', 'Pineapple', 'Mango', 'Goa']\n"
     ]
    }
   ],
   "source": [
    "#Exercise 8: List Manipulation\n",
    "Fruits = [\"Apple\", \"Orange\", \"Grapes\", \"Pineapple\", \"Mango\"]\n",
    "Fruits.append(\"Goa\")\n",
    "Fruits.pop(1) \n",
    "print(Fruits)\n"
   ]
  },
  {
   "cell_type": "code",
   "execution_count": 22,
   "id": "35166fee-d87f-40ec-a848-e6ce77362990",
   "metadata": {},
   "outputs": [
    {
     "name": "stdin",
     "output_type": "stream",
     "text": [
      "Enter the number 1:  1\n",
      "Enter the number 2:  2\n",
      "Enter the number 3:  3\n",
      "Enter the number 4:  4\n",
      "Enter the number 5:  5\n"
     ]
    },
    {
     "name": "stdout",
     "output_type": "stream",
     "text": [
      "Ascending Order of the list:  [1, 2, 3, 4, 5]\n",
      "Descending Order of the list:  [5, 4, 3, 2, 1]\n"
     ]
    }
   ],
   "source": [
    "#Exercise 9: Sorting a List\n",
    "A = int(input(\"Enter the number 1: \"))\n",
    "B = int(input(\"Enter the number 2: \"))\n",
    "C = int(input(\"Enter the number 3: \"))\n",
    "D = int(input(\"Enter the number 4: \"))\n",
    "E = int(input(\"Enter the number 5: \"))\n",
    "f = [A, B, C, D, E]\n",
    "f.sort()\n",
    "print(\"Ascending Order of the list: \", f)\n",
    "f.sort(reverse=True)\n",
    "print(\"Descending Order of the list: \", f)\n"
   ]
  },
  {
   "cell_type": "code",
   "execution_count": 30,
   "id": "4ccb0ab4-f9b9-4e64-a2a9-4bf788b60447",
   "metadata": {},
   "outputs": [
    {
     "name": "stdout",
     "output_type": "stream",
     "text": [
      "[1, 2, 3, 4, 5]\n",
      "[6, 7, 8, 9, 10]\n",
      "[2, 3, 4, 5, 6, 7]\n"
     ]
    }
   ],
   "source": [
    "#Exercise 10: List Slicing\n",
    "Numbers=[1,2,3,4,5,6,7,8,9,10]\n",
    "print(Numbers[:5])\n",
    "print(Numbers[-5:])\n",
    "print(Numbers[1:7])"
   ]
  },
  {
   "cell_type": "code",
   "execution_count": null,
   "id": "1e1f2e7c-0f7f-479b-a41b-3a7301a3cc90",
   "metadata": {},
   "outputs": [],
   "source": [
    "#Exercise 11: Nested List\n"
   ]
  }
 ],
 "metadata": {
  "kernelspec": {
   "display_name": "Python 3 (ipykernel)",
   "language": "python",
   "name": "python3"
  },
  "language_info": {
   "codemirror_mode": {
    "name": "ipython",
    "version": 3
   },
   "file_extension": ".py",
   "mimetype": "text/x-python",
   "name": "python",
   "nbconvert_exporter": "python",
   "pygments_lexer": "ipython3",
   "version": "3.12.4"
  }
 },
 "nbformat": 4,
 "nbformat_minor": 5
}
